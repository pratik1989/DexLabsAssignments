{
 "cells": [
  {
   "cell_type": "code",
   "execution_count": null,
   "metadata": {},
   "outputs": [
    {
     "name": "stdout",
     "output_type": "stream",
     "text": [
      "Hello! Welcome to my shop\n"
     ]
    }
   ],
   "source": [
    "print (\"Hello! Welcome to my shop\")\n",
    "Name = input(\"What's your name? \\n\")\n",
    "Mobile = input(\"What's your mobile number? \\n\")\n",
    "Order = input(\"Hello \"+ Name +\"!\" \" Which sandwich would you like to order? Here are the available options \\n Cheese \\n Veg \\n\").lower()\n",
    "if Order == 'cheese':\n",
    "  Cheese_sub = input(\"\\nWhich Cheese sandwich? Here are the available options. \\n Chedder \\n Paneer \\n\").lower()\n",
    "  if Cheese_sub == 'chedder':\n",
    "    print(\"\\nGood Choice! Your chedder cheese sandwich will be delivered to you sooon.\")\n",
    "  elif Cheese_sub =='paneer':\n",
    "    print(\"n\\Awesome! Your Paneer sandwich is on the way.\")\n",
    "  else:\n",
    "    print(\"\\nSorry! This sandwich is not in our menu.\")\n",
    "elif Order =='veg':\n",
    "  print(\"\\nGreat choice! your fresh healthy Veg sandwich will be on your table in just 15 minutes.\")\n",
    "else:\n",
    "  print(\"Sorry! This sandwich is not in our menu.\")\n",
    "print(\"\\nThanks \"+Name+ \" for visiting us.\" \" Our delivery guy will contact you on your mobile number \" +Mobile+\". You can pay on delivery. Have a nice day.\")"
   ]
  },
  {
   "cell_type": "code",
   "execution_count": null,
   "metadata": {},
   "outputs": [],
   "source": []
  }
 ],
 "metadata": {
  "kernelspec": {
   "display_name": "Python 3",
   "language": "python",
   "name": "python3"
  },
  "language_info": {
   "codemirror_mode": {
    "name": "ipython",
    "version": 3
   },
   "file_extension": ".py",
   "mimetype": "text/x-python",
   "name": "python",
   "nbconvert_exporter": "python",
   "pygments_lexer": "ipython3",
   "version": "3.7.1"
  }
 },
 "nbformat": 4,
 "nbformat_minor": 2
}
